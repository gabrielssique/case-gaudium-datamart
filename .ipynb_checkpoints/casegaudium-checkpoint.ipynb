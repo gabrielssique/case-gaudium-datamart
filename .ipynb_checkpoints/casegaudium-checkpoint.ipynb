{
 "cells": [
  {
   "cell_type": "code",
   "execution_count": 1,
   "id": "f8e51aa1-4443-46ef-9e18-1b3bbff407e2",
   "metadata": {},
   "outputs": [],
   "source": [
    "# IMPORTANDO BIBLIOTECAS\n",
    "import os\n",
    "import shutil\n",
    "from pyspark.sql import SparkSession\n",
    "from pyspark.sql.functions import col, monotonically_increasing_id, year, month, dayofmonth, to_date"
   ]
  },
  {
   "cell_type": "code",
   "execution_count": 2,
   "id": "6542ae76-b424-499d-829e-d36412ec8dd5",
   "metadata": {},
   "outputs": [],
   "source": [
    "# CRIANDO SESSÃO SPARK\n",
    "spark = SparkSession.builder \\\n",
    "    .appName(\"Desafio Gaudium - Data Mart\") \\\n",
    "    .getOrCreate()"
   ]
  },
  {
   "cell_type": "code",
   "execution_count": 3,
   "id": "ef389bb8-19cd-4eb1-ab32-8ca414f3c3f1",
   "metadata": {},
   "outputs": [],
   "source": [
    "# Ler os dados\n",
    "df = spark.read.csv(\"dados_brutos_csv/dados_brutos.csv\", header=True, inferSchema=True)"
   ]
  },
  {
   "cell_type": "code",
   "execution_count": 4,
   "id": "f4a04f10-f02d-4581-8061-ed73ea857e57",
   "metadata": {},
   "outputs": [
    {
     "name": "stdout",
     "output_type": "stream",
     "text": [
      "+-------------+--------------+------+------------+---------+----------+----------+-----------+-----------+\n",
      "| nome_cliente|        cidade|estado|nome_produto|categoria|fabricante|      data|qtd_vendida|valor_total|\n",
      "+-------------+--------------+------+------------+---------+----------+----------+-----------+-----------+\n",
      "|Lucas Pereira|  Porto Alegre|    RS|  Detergente|  Limpeza|       Ypê|2024-01-26|          6|         90|\n",
      "|Lucas Pereira|  Porto Alegre|    RS|      Feijão| Alimento|   Kicaldo|2024-01-14|         10|        240|\n",
      "| Ana Oliveira|Rio de Janeiro|    RJ|Refrigerante|   Bebida| Coca-Cola|2024-01-15|          3|        150|\n",
      "| Pedro Santos|      Curitiba|    PR|      Feijão| Alimento|   Kicaldo|2024-01-28|          4|        152|\n",
      "| Pedro Santos|      Curitiba|    PR|       Arroz| Alimento|     Camil|2024-01-24|          3|         87|\n",
      "+-------------+--------------+------+------------+---------+----------+----------+-----------+-----------+\n",
      "only showing top 5 rows\n",
      "\n"
     ]
    }
   ],
   "source": [
    "# Mostra os dados\n",
    "df.show(5)"
   ]
  },
  {
   "cell_type": "markdown",
   "id": "13795510-4557-4790-bdc6-a10ac9116ef5",
   "metadata": {},
   "source": [
    "### CRIACAO DAS TABELAS DIMENSÃO"
   ]
  },
  {
   "cell_type": "code",
   "execution_count": 5,
   "id": "08aa1a86-231a-4c96-9f82-2dd39974a01f",
   "metadata": {},
   "outputs": [],
   "source": [
    "# Dimensão Cliente\n",
    "dim_cliente = df.select(\"nome_cliente\").distinct() \\\n",
    "    .withColumn(\"id_cliente\", monotonically_increasing_id())"
   ]
  },
  {
   "cell_type": "code",
   "execution_count": 6,
   "id": "a31fabd9-9aa6-4822-944e-32c68fc0e8db",
   "metadata": {},
   "outputs": [],
   "source": [
    "# Dimensão Produto\n",
    "dim_produto = df.select(\"nome_produto\", \"categoria\", \"fabricante\").distinct() \\\n",
    "    .withColumn(\"id_produto\", monotonically_increasing_id())"
   ]
  },
  {
   "cell_type": "code",
   "execution_count": 7,
   "id": "0cdc3e19-4c8f-4512-ae52-19d2f116ac1a",
   "metadata": {},
   "outputs": [],
   "source": [
    "# Dimensão Localidade\n",
    "dim_localidade = df.select(\"cidade\", \"estado\").distinct() \\\n",
    "    .withColumn(\"id_localidade\", monotonically_increasing_id())"
   ]
  },
  {
   "cell_type": "code",
   "execution_count": 8,
   "id": "f15a0b89-b66e-4789-b71e-97ec5a2c79be",
   "metadata": {},
   "outputs": [],
   "source": [
    "# Dimensão Tempo\n",
    "dim_tempo = df.select(\"data\").distinct() \\\n",
    "    .withColumn(\"data\", to_date(col(\"data\"), \"yyyy-MM-dd\")) \\\n",
    "    .withColumn(\"ano\", year(col(\"data\"))) \\\n",
    "    .withColumn(\"mes\", month(col(\"data\"))) \\\n",
    "    .withColumn(\"dia\", dayofmonth(col(\"data\"))) \\\n",
    "    .withColumn(\"id_tempo\", monotonically_increasing_id())"
   ]
  },
  {
   "cell_type": "markdown",
   "id": "3edfe4ac-dc84-4a9c-8dcb-4da33762a5de",
   "metadata": {},
   "source": [
    "### CRIACAO DA TABELA FATO"
   ]
  },
  {
   "cell_type": "code",
   "execution_count": 9,
   "id": "ed088b97-717c-47f0-a754-082bd9b7081e",
   "metadata": {},
   "outputs": [],
   "source": [
    "# Juntando todos os IDs para a tabela fato\n",
    "df_fato = df \\\n",
    "    .join(dim_cliente, \"nome_cliente\", \"left\") \\\n",
    "    .join(dim_produto, [\"nome_produto\", \"categoria\", \"fabricante\"], \"left\") \\\n",
    "    .join(dim_localidade, [\"cidade\", \"estado\"], \"left\") \\\n",
    "    .join(dim_tempo, \"data\", \"left\") \\\n",
    "    .select(\n",
    "        col(\"id_cliente\"),\n",
    "        col(\"id_produto\"),\n",
    "        col(\"id_localidade\"),\n",
    "        col(\"id_tempo\"),\n",
    "        col(\"qtd_vendida\"),\n",
    "        col(\"valor_total\")\n",
    "    )"
   ]
  },
  {
   "cell_type": "markdown",
   "id": "ba0618cf-832b-4274-9c64-2418b0840c47",
   "metadata": {},
   "source": [
    "### EXPORTANDO OS DADOS PARA CSV"
   ]
  },
  {
   "cell_type": "code",
   "execution_count": 10,
   "id": "9c68147d-dfd2-4b35-9128-00bfb1100dee",
   "metadata": {},
   "outputs": [
    {
     "name": "stdout",
     "output_type": "stream",
     "text": [
      "Arquivo part-00000-a7c3353f-1c38-4a5a-839c-1e211754a307-c000.csv renomeado para dim_cliente.csv\n",
      "Pasta tabelas_fato_dim/dim_cliente removida.\n",
      "Arquivo part-00000-12dd9753-039f-4bef-90df-3d592ef10e3a-c000.csv renomeado para dim_produto.csv\n",
      "Pasta tabelas_fato_dim/dim_produto removida.\n",
      "Arquivo part-00000-2f7eac53-d46a-4d25-9a00-21261f932111-c000.csv renomeado para dim_localidade.csv\n",
      "Pasta tabelas_fato_dim/dim_localidade removida.\n",
      "Arquivo part-00000-149525de-409e-4b59-ab33-7544e7c58215-c000.csv renomeado para dim_tempo.csv\n",
      "Pasta tabelas_fato_dim/dim_tempo removida.\n",
      "Arquivo part-00000-938b97d3-f9ab-42fc-b652-d1de7c421448-c000.csv renomeado para fato_vendas.csv\n",
      "Pasta tabelas_fato_dim/fato_vendas removida.\n"
     ]
    }
   ],
   "source": [
    "# Definir o caminho da pasta\n",
    "output_path = \"tabelas_fato_dim/\"\n",
    "\n",
    "# Salvando Dimensões\n",
    "dim_cliente.select(\"id_cliente\", \"nome_cliente\") \\\n",
    "    .write.mode(\"overwrite\").option(\"header\", True).csv(output_path + \"dim_cliente\")\n",
    "\n",
    "dim_produto.select(\"id_produto\", \"nome_produto\", \"categoria\", \"fabricante\") \\\n",
    "    .write.mode(\"overwrite\").option(\"header\", True).csv(output_path + \"dim_produto\")\n",
    "\n",
    "dim_localidade.select(\"id_localidade\", \"cidade\", \"estado\") \\\n",
    "    .write.mode(\"overwrite\").option(\"header\", True).csv(output_path + \"dim_localidade\")\n",
    "\n",
    "dim_tempo.select(\"id_tempo\", \"data\", \"ano\", \"mes\", \"dia\") \\\n",
    "    .write.mode(\"overwrite\").option(\"header\", True).csv(output_path + \"dim_tempo\")\n",
    "\n",
    "# Salvando Fato\n",
    "df_fato.write.mode(\"overwrite\").option(\"header\", True).csv(output_path + \"fato_vendas\")\n",
    "\n",
    "def mover_renomear_csv(pasta_saida, nome_final_csv):\n",
    "    arquivos = os.listdir(pasta_saida)\n",
    "    for arquivo in arquivos:\n",
    "        if arquivo.startswith(\"part-\") and arquivo.endswith(\".csv\"):\n",
    "            origem = os.path.join(pasta_saida, arquivo)\n",
    "            destino = os.path.join(\"tabelas_fato_dim\", nome_final_csv)\n",
    "            shutil.move(origem, destino)\n",
    "            print(f\"Arquivo {arquivo} renomeado para {nome_final_csv}\")\n",
    "    # Após mover, remover a pasta vazia\n",
    "    shutil.rmtree(pasta_saida)\n",
    "    print(f\"Pasta {pasta_saida} removida.\")\n",
    "\n",
    "# Executando para cada dimensão/fato\n",
    "mover_renomear_csv(\"tabelas_fato_dim/dim_cliente\", \"dim_cliente.csv\")\n",
    "mover_renomear_csv(\"tabelas_fato_dim/dim_produto\", \"dim_produto.csv\")\n",
    "mover_renomear_csv(\"tabelas_fato_dim/dim_localidade\", \"dim_localidade.csv\")\n",
    "mover_renomear_csv(\"tabelas_fato_dim/dim_tempo\", \"dim_tempo.csv\")\n",
    "mover_renomear_csv(\"tabelas_fato_dim/fato_vendas\", \"fato_vendas.csv\")"
   ]
  },
  {
   "cell_type": "markdown",
   "id": "5221a8ef-bb8d-44fc-a9ec-eb466cc84eb5",
   "metadata": {},
   "source": [
    "#### FINALIZANDO SESSÃO"
   ]
  },
  {
   "cell_type": "code",
   "execution_count": 11,
   "id": "d3cdf951-32f1-4fb2-84f6-69ea7a69a810",
   "metadata": {},
   "outputs": [
    {
     "name": "stdout",
     "output_type": "stream",
     "text": [
      "Processo concluído com sucesso!\n"
     ]
    }
   ],
   "source": [
    "spark.stop()\n",
    "print(\"Processo concluído com sucesso!\")"
   ]
  }
 ],
 "metadata": {
  "kernelspec": {
   "display_name": "Python 3 (ipykernel)",
   "language": "python",
   "name": "python3"
  },
  "language_info": {
   "codemirror_mode": {
    "name": "ipython",
    "version": 3
   },
   "file_extension": ".py",
   "mimetype": "text/x-python",
   "name": "python",
   "nbconvert_exporter": "python",
   "pygments_lexer": "ipython3",
   "version": "3.12.5"
  }
 },
 "nbformat": 4,
 "nbformat_minor": 5
}
